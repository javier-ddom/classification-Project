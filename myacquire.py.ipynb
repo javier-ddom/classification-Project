{
 "cells": [
  {
   "cell_type": "code",
   "execution_count": 3,
   "id": "48bf96c0",
   "metadata": {},
   "outputs": [],
   "source": [
    "import pandas as pd\n",
    "import numpy as np\n",
    "import os\n",
    "#from env import get_db_url\n",
    "def get_db_url(db):\n",
    "    return f'mysql+pymysql://{user}:{password}@{host}/{db}'"
   ]
  },
  {
   "cell_type": "code",
   "execution_count": 8,
   "id": "f52a4eec",
   "metadata": {},
   "outputs": [],
   "source": [
    "def new_titanic_data():\n",
    "#this should read the data from codeups db \n",
    "#we have to use sql querey\n",
    "    sql_query = 'select * from passengers'\n",
    "    df = pd.read_sql(sql_query, get_db_url('titanic_db'))\n",
    "    return df\n",
    "# this should put the titanic stuff into a dataframe"
   ]
  },
  {
   "cell_type": "code",
   "execution_count": null,
   "id": "c0be1bde",
   "metadata": {},
   "outputs": [],
   "source": []
  },
  {
   "cell_type": "code",
   "execution_count": 9,
   "id": "b679e129",
   "metadata": {},
   "outputs": [],
   "source": [
    "def get_titanic_data():\n",
    "    #reads from codeups db, writes data locally to csv if one doesnt\n",
    "    #exist yet, and returns a dataframe\n",
    "    if os.path.isfile('titanic_df.csv'):\n",
    "        df = pd.read_csv('titanic_df.csv', index_col=0) #reads csv if extant\n",
    "    else:\n",
    "        df = new_titanic_data() #runs the new data func above\n",
    "        df.to_csv('titanic_df.csv') #writes the DF to CSV"
   ]
  },
  {
   "cell_type": "code",
   "execution_count": null,
   "id": "19e6a3d7",
   "metadata": {},
   "outputs": [],
   "source": []
  },
  {
   "cell_type": "code",
   "execution_count": null,
   "id": "26771459",
   "metadata": {},
   "outputs": [],
   "source": []
  },
  {
   "cell_type": "code",
   "execution_count": 13,
   "id": "9a991fec",
   "metadata": {},
   "outputs": [],
   "source": [
    "#iris data from codeup DB into a dataframe\n",
    "def new_iris_data():\n",
    "    sql_query =\"\"\"\n",
    "                SELECT \n",
    "                    species_id,\n",
    "                    species_name,\n",
    "                    sepal_length,\n",
    "                    sepal_width,\n",
    "                    petal_length,\n",
    "                    petal_width\n",
    "                FROM measurements\n",
    "                JOIN species USING(species_id)\"\"\"\n",
    "                \n",
    "    #now read that into a dataframe\n",
    "    df = pd.read_sql(sql_query, get_db_url('iris_db'))\n",
    "    return df"
   ]
  },
  {
   "cell_type": "code",
   "execution_count": null,
   "id": "c4a32c76",
   "metadata": {},
   "outputs": [],
   "source": []
  },
  {
   "cell_type": "code",
   "execution_count": 14,
   "id": "cd4b733f",
   "metadata": {},
   "outputs": [],
   "source": [
    "def get_iris_data():  #checks if csv exists, then reads it or makes one\n",
    "    if os.path.isfile('iris_df.csv'):\n",
    "        df = pd.read_csv('iris_df.csv', index_col=0)\n",
    "    else:\n",
    "        df = new_iris_data()\n",
    "        df.to_csv('iris_df.csv')\n",
    "    return df"
   ]
  },
  {
   "cell_type": "code",
   "execution_count": null,
   "id": "eae76446",
   "metadata": {},
   "outputs": [],
   "source": []
  },
  {
   "cell_type": "code",
   "execution_count": null,
   "id": "09ecb83c",
   "metadata": {},
   "outputs": [],
   "source": []
  },
  {
   "cell_type": "code",
   "execution_count": 15,
   "id": "dc83c5b0",
   "metadata": {},
   "outputs": [],
   "source": [
    "def new_telco_data():    #reads telco data info a df\n",
    "    sql_query = \"\"\"\n",
    "                select * from customers\n",
    "                join contract_types using (contract_type_id)\n",
    "                join internet_service_types using (internet_service_type_id)\n",
    "                join payment_types using (payment_type_id)\"\"\"\n",
    "                \n",
    "    df = pd.read_sql(sql_query, get_db_url('telco_churn'))\n",
    "    return df"
   ]
  },
  {
   "cell_type": "code",
   "execution_count": null,
   "id": "331998fb",
   "metadata": {},
   "outputs": [],
   "source": []
  },
  {
   "cell_type": "code",
   "execution_count": 16,
   "id": "78b67ec4",
   "metadata": {},
   "outputs": [],
   "source": [
    "def get_telco_data(): #checks for existing telco csv and makes one if not\n",
    "    if os.path.isfile('telco.csv'):\n",
    "        df = pd.read_csv('telco.csv', index_col=0)\n",
    "    else:\n",
    "        df = new_telco_data()\n",
    "        df.to_csv('telco.csv')\n",
    "    return df"
   ]
  },
  {
   "cell_type": "code",
   "execution_count": null,
   "id": "1fc0796f",
   "metadata": {},
   "outputs": [],
   "source": []
  }
 ],
 "metadata": {
  "kernelspec": {
   "display_name": "Python 3 (ipykernel)",
   "language": "python",
   "name": "python3"
  },
  "language_info": {
   "codemirror_mode": {
    "name": "ipython",
    "version": 3
   },
   "file_extension": ".py",
   "mimetype": "text/x-python",
   "name": "python",
   "nbconvert_exporter": "python",
   "pygments_lexer": "ipython3",
   "version": "3.9.12"
  }
 },
 "nbformat": 4,
 "nbformat_minor": 5
}
